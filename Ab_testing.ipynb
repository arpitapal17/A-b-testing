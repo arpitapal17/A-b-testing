{
 "cells": [
  {
   "cell_type": "code",
   "execution_count": 175,
   "id": "cb736eb6",
   "metadata": {},
   "outputs": [],
   "source": [
    "# Understand the Test: You’re looking at the results of an experiment where two versions of a webpage (a new one and an old one) were shown to visitors.\n",
    "# Make a Decision: Based on the data, help the company decide if the new page is better, if they should stick with the old page, or if they need more information before deciding.    "
   ]
  },
  {
   "cell_type": "code",
   "execution_count": 176,
   "id": "a0ebc2b1",
   "metadata": {},
   "outputs": [],
   "source": [
    "#PART 1 : PROBABILITY"
   ]
  },
  {
   "cell_type": "code",
   "execution_count": 177,
   "id": "0dccb5c2",
   "metadata": {},
   "outputs": [],
   "source": [
    "import pandas as pd\n",
    "import numpy as np\n",
    "import random\n",
    "import matplotlib.pyplot as plt\n",
    "%matplotlib inline\n",
    "#We are setting the seed to assure you get the same answers on quizzes as we set up\n",
    "np.random.seed(42)"
   ]
  },
  {
   "cell_type": "code",
   "execution_count": 178,
   "id": "6f0b0aa6",
   "metadata": {},
   "outputs": [
    {
     "data": {
      "text/html": [
       "<div>\n",
       "<style scoped>\n",
       "    .dataframe tbody tr th:only-of-type {\n",
       "        vertical-align: middle;\n",
       "    }\n",
       "\n",
       "    .dataframe tbody tr th {\n",
       "        vertical-align: top;\n",
       "    }\n",
       "\n",
       "    .dataframe thead th {\n",
       "        text-align: right;\n",
       "    }\n",
       "</style>\n",
       "<table border=\"1\" class=\"dataframe\">\n",
       "  <thead>\n",
       "    <tr style=\"text-align: right;\">\n",
       "      <th></th>\n",
       "      <th>user_id</th>\n",
       "      <th>timestamp</th>\n",
       "      <th>group</th>\n",
       "      <th>landing_page</th>\n",
       "      <th>converted</th>\n",
       "    </tr>\n",
       "  </thead>\n",
       "  <tbody>\n",
       "    <tr>\n",
       "      <th>0</th>\n",
       "      <td>851104</td>\n",
       "      <td>2017-01-21 22:11:48.556739</td>\n",
       "      <td>control</td>\n",
       "      <td>old_page</td>\n",
       "      <td>0</td>\n",
       "    </tr>\n",
       "    <tr>\n",
       "      <th>1</th>\n",
       "      <td>804228</td>\n",
       "      <td>2017-01-12 08:01:45.159739</td>\n",
       "      <td>control</td>\n",
       "      <td>old_page</td>\n",
       "      <td>0</td>\n",
       "    </tr>\n",
       "    <tr>\n",
       "      <th>2</th>\n",
       "      <td>661590</td>\n",
       "      <td>2017-01-11 16:55:06.154213</td>\n",
       "      <td>treatment</td>\n",
       "      <td>new_page</td>\n",
       "      <td>0</td>\n",
       "    </tr>\n",
       "    <tr>\n",
       "      <th>3</th>\n",
       "      <td>853541</td>\n",
       "      <td>2017-01-08 18:28:03.143765</td>\n",
       "      <td>treatment</td>\n",
       "      <td>new_page</td>\n",
       "      <td>0</td>\n",
       "    </tr>\n",
       "    <tr>\n",
       "      <th>4</th>\n",
       "      <td>864975</td>\n",
       "      <td>2017-01-21 01:52:26.210827</td>\n",
       "      <td>control</td>\n",
       "      <td>old_page</td>\n",
       "      <td>1</td>\n",
       "    </tr>\n",
       "  </tbody>\n",
       "</table>\n",
       "</div>"
      ],
      "text/plain": [
       "   user_id                   timestamp      group landing_page  converted\n",
       "0   851104  2017-01-21 22:11:48.556739    control     old_page          0\n",
       "1   804228  2017-01-12 08:01:45.159739    control     old_page          0\n",
       "2   661590  2017-01-11 16:55:06.154213  treatment     new_page          0\n",
       "3   853541  2017-01-08 18:28:03.143765  treatment     new_page          0\n",
       "4   864975  2017-01-21 01:52:26.210827    control     old_page          1"
      ]
     },
     "execution_count": 178,
     "metadata": {},
     "output_type": "execute_result"
    }
   ],
   "source": [
    "df = pd.read_csv('ab_data.csv')\n",
    "df.head()"
   ]
  },
  {
   "cell_type": "code",
   "execution_count": 179,
   "id": "632b44c4",
   "metadata": {},
   "outputs": [
    {
     "name": "stdout",
     "output_type": "stream",
     "text": [
      "<class 'pandas.core.frame.DataFrame'>\n",
      "RangeIndex: 294478 entries, 0 to 294477\n",
      "Data columns (total 5 columns):\n",
      " #   Column        Non-Null Count   Dtype \n",
      "---  ------        --------------   ----- \n",
      " 0   user_id       294478 non-null  int64 \n",
      " 1   timestamp     294478 non-null  object\n",
      " 2   group         294478 non-null  object\n",
      " 3   landing_page  294478 non-null  object\n",
      " 4   converted     294478 non-null  int64 \n",
      "dtypes: int64(2), object(3)\n",
      "memory usage: 11.2+ MB\n"
     ]
    }
   ],
   "source": [
    "df.info()"
   ]
  },
  {
   "cell_type": "code",
   "execution_count": 180,
   "id": "ff1576ce",
   "metadata": {},
   "outputs": [
    {
     "data": {
      "text/plain": [
       "array(['control', 'treatment'], dtype=object)"
      ]
     },
     "execution_count": 180,
     "metadata": {},
     "output_type": "execute_result"
    }
   ],
   "source": [
    "df.group.unique()"
   ]
  },
  {
   "cell_type": "code",
   "execution_count": 181,
   "id": "8e903871",
   "metadata": {},
   "outputs": [
    {
     "data": {
      "text/plain": [
       "294478"
      ]
     },
     "execution_count": 181,
     "metadata": {},
     "output_type": "execute_result"
    }
   ],
   "source": [
    "df.shape[0] #to find the number of rows in the dataset."
   ]
  },
  {
   "cell_type": "code",
   "execution_count": 182,
   "id": "c0f7c25c",
   "metadata": {},
   "outputs": [
    {
     "data": {
      "text/plain": [
       "290584"
      ]
     },
     "execution_count": 182,
     "metadata": {},
     "output_type": "execute_result"
    }
   ],
   "source": [
    "df.user_id.nunique() #The number of unique users in the dataset."
   ]
  },
  {
   "cell_type": "code",
   "execution_count": 183,
   "id": "d47f6ebe",
   "metadata": {},
   "outputs": [
    {
     "data": {
      "text/plain": [
       "0.11965919355605512"
      ]
     },
     "execution_count": 183,
     "metadata": {},
     "output_type": "execute_result"
    }
   ],
   "source": [
    "df.converted.mean()"
   ]
  },
  {
   "cell_type": "code",
   "execution_count": 184,
   "id": "39f7511f",
   "metadata": {},
   "outputs": [
    {
     "data": {
      "text/plain": [
       "user_id         3893\n",
       "timestamp       3893\n",
       "group           3893\n",
       "landing_page    3893\n",
       "converted       3893\n",
       "dtype: int64"
      ]
     },
     "execution_count": 184,
     "metadata": {},
     "output_type": "execute_result"
    }
   ],
   "source": [
    "#he number of times the new_page and treatment don’t line up” means \n",
    "#we’re counting how often things don’t match up in an experiment. \n",
    "#it means counting how many times users in the \n",
    "#treatment group (who are supposed to see the new version of a page)\n",
    "#are actually shown the old page, or vice versa—users in the \n",
    "#control group (who are supposed to see the old page) are shown the new page1.\n",
    "#Imagine you’re testing two different web page designs: one old and one new. \n",
    "#Some people are supposed to see the new design (this is the ‘treatment’ group), \n",
    "#and others should see the old one. But sometimes, mistakes happen, \n",
    "#and people see the wrong page. So, this count is all about finding \n",
    "#and fixing those mix-ups to make sure the experiment is fair and the \n",
    "#results are trustworthy. \n",
    "#It’s like making sure everyone gets the right order at a restaurant – \n",
    "#it keeps customers happy and the business running smoothly!\n",
    "\n",
    "x = df.query('landing_page == \"new_page\" and group == \"control\"').count()\n",
    "y = df.query('landing_page == \"old_page\" and group == \"treatment\"').count()\n",
    "x+y"
   ]
  },
  {
   "cell_type": "code",
   "execution_count": 185,
   "id": "7c1f0173",
   "metadata": {},
   "outputs": [
    {
     "data": {
      "text/plain": [
       "False"
      ]
     },
     "execution_count": 185,
     "metadata": {},
     "output_type": "execute_result"
    }
   ],
   "source": [
    "#to find the rows have missing values\n",
    "df.isnull().sum().any()"
   ]
  },
  {
   "cell_type": "code",
   "execution_count": 186,
   "id": "915e30b9",
   "metadata": {},
   "outputs": [
    {
     "data": {
      "text/plain": [
       "(Index([    22,    240,    490,    846,    850,    988,   1198,   1354,   1474,\n",
       "          1877,\n",
       "        ...\n",
       "        293393, 293480, 293568, 293662, 293888, 293894, 293996, 294200, 294253,\n",
       "        294331],\n",
       "       dtype='int64', length=1928),\n",
       " Index([   308,    327,    357,    685,    713,    776,    889,   1037,   1106,\n",
       "          1376,\n",
       "        ...\n",
       "        293240, 293302, 293391, 293443, 293530, 293773, 293817, 293917, 294014,\n",
       "        294252],\n",
       "       dtype='int64', length=1965))"
      ]
     },
     "execution_count": 186,
     "metadata": {},
     "output_type": "execute_result"
    }
   ],
   "source": [
    "# Identify the Mix-ups: Find all the rows where the group (treatment or control) doesn’t match the page version (new or old) they’re supposed to see.\n",
    "# Remove the Affected Rows: Delete these rows from your data because they could mess up your experiment’s results.\n",
    "# Clean Data: By removing these rows, you make sure that only the correct data is used to judge whether the new page is better or not.\n",
    "\n",
    "# ind1 is used to find all rows where the landing_page is “new_page” but the group is “control”. This is a mismatch because the control group should see the old page, not the new one.\n",
    "# ind2 is used to find all rows where the landing_page is “old_page” but the group is “treatment”. This is also a mismatch because the treatment group should see the new page, not the old one.\n",
    "\n",
    "ind1 = df.query('landing_page == \"new_page\" and group == \"control\"').index\n",
    "ind2 = df.query('landing_page == \"old_page\" and group == \"treatment\"').index\n",
    "ind1, ind2"
   ]
  },
  {
   "cell_type": "code",
   "execution_count": 187,
   "id": "6d929487",
   "metadata": {},
   "outputs": [],
   "source": [
    "# Dropping the rows where new page is not aligned with treatment\n",
    "#axis=0 parameter specifies that the operation should be performed along the index axis, \n",
    "#which is the rows of the DataFrame. \n",
    "#So, this command is telling pandas to create a new DataFrame df2 by removing the rows with index values in ind1 from the original DataFrame df.\n",
    "df2 = df.drop(index = ind1, axis=0)  "
   ]
  },
  {
   "cell_type": "code",
   "execution_count": 188,
   "id": "c11d8de5",
   "metadata": {},
   "outputs": [],
   "source": [
    "# Dropping the rows where old page is not aligned with control\n",
    "df2 = df2.drop(index = ind2, axis = 0)"
   ]
  },
  {
   "cell_type": "code",
   "execution_count": 189,
   "id": "5585b88e",
   "metadata": {},
   "outputs": [
    {
     "data": {
      "text/plain": [
       "0"
      ]
     },
     "execution_count": 189,
     "metadata": {},
     "output_type": "execute_result"
    }
   ],
   "source": [
    "# Double Check all of the correct rows were removed - this should be 0\n",
    "df2[((df2['group']=='control') == (df2['landing_page']=='old_page')) == False].shape[0]"
   ]
  },
  {
   "cell_type": "code",
   "execution_count": 190,
   "id": "0b69b773",
   "metadata": {},
   "outputs": [
    {
     "data": {
      "text/plain": [
       "0"
      ]
     },
     "execution_count": 190,
     "metadata": {},
     "output_type": "execute_result"
    }
   ],
   "source": [
    "# Double Check all of the correct rows were removed - this should be 0\n",
    "df2[((df2['group'] == 'treatment') == (df2['landing_page'] == 'new_page')) == False].shape[0]\n"
   ]
  },
  {
   "cell_type": "code",
   "execution_count": 191,
   "id": "5acc60d9",
   "metadata": {},
   "outputs": [
    {
     "data": {
      "text/plain": [
       "290584"
      ]
     },
     "execution_count": 191,
     "metadata": {},
     "output_type": "execute_result"
    }
   ],
   "source": [
    "#to find unique user_ids are in df2\n",
    "df2.user_id.nunique()"
   ]
  },
  {
   "cell_type": "code",
   "execution_count": 192,
   "id": "1142ab55",
   "metadata": {},
   "outputs": [
    {
     "data": {
      "text/plain": [
       "2893    773192\n",
       "Name: user_id, dtype: int64"
      ]
     },
     "execution_count": 192,
     "metadata": {},
     "output_type": "execute_result"
    }
   ],
   "source": [
    "#to find user_id repeated in df2\n",
    "df2[df2.user_id.duplicated()].user_id"
   ]
  },
  {
   "cell_type": "code",
   "execution_count": 193,
   "id": "b3c4572e",
   "metadata": {},
   "outputs": [],
   "source": [
    "#to remove one of the rows with a duplicate user_id\n",
    "df2.drop(index = 2893, axis = 0, inplace = True)"
   ]
  },
  {
   "cell_type": "code",
   "execution_count": 194,
   "id": "16476a87",
   "metadata": {},
   "outputs": [
    {
     "data": {
      "text/plain": [
       "0"
      ]
     },
     "execution_count": 194,
     "metadata": {},
     "output_type": "execute_result"
    }
   ],
   "source": [
    "# Verifying the duplicate row has been removed\n",
    "sum(df2.user_id.duplicated())"
   ]
  },
  {
   "cell_type": "code",
   "execution_count": 195,
   "id": "bf188cce",
   "metadata": {},
   "outputs": [
    {
     "data": {
      "text/plain": [
       "0.11959708724499628"
      ]
     },
     "execution_count": 195,
     "metadata": {},
     "output_type": "execute_result"
    }
   ],
   "source": [
    "#to find probability of an individual converting regardless of the page they receive\n",
    "\n",
    "df2.converted.mean()"
   ]
  },
  {
   "cell_type": "code",
   "execution_count": 196,
   "id": "9eb51c40",
   "metadata": {},
   "outputs": [
    {
     "data": {
      "text/plain": [
       "0.1203863045004612"
      ]
     },
     "execution_count": 196,
     "metadata": {},
     "output_type": "execute_result"
    }
   ],
   "source": [
    "#Given that an individual was in the control group, what is the probability they converted?\n",
    "\n",
    "df2.query('group == \"control\"').converted.mean()"
   ]
  },
  {
   "cell_type": "code",
   "execution_count": 197,
   "id": "6377b337",
   "metadata": {},
   "outputs": [
    {
     "data": {
      "text/plain": [
       "0.11880806551510564"
      ]
     },
     "execution_count": 197,
     "metadata": {},
     "output_type": "execute_result"
    }
   ],
   "source": [
    "#Given that an individual was in the treatment group, what is the probability they converted?\n",
    "\n",
    "df2.query('group == \"treatment\"').converted.mean()"
   ]
  },
  {
   "cell_type": "code",
   "execution_count": 198,
   "id": "b05296db",
   "metadata": {},
   "outputs": [],
   "source": [
    "#According to the probabilities, the control group (the group with the old page) converted at a higher rate than the teatment (the group with the new page)"
   ]
  },
  {
   "cell_type": "code",
   "execution_count": 199,
   "id": "48e1965c",
   "metadata": {},
   "outputs": [
    {
     "data": {
      "text/plain": [
       "0.5000619442226688"
      ]
     },
     "execution_count": 199,
     "metadata": {},
     "output_type": "execute_result"
    }
   ],
   "source": [
    "#What is the probability that an individual received the new page?\n",
    "\n",
    "df2.query('landing_page == \"new_page\"').landing_page.count() / (df2.shape[0])"
   ]
  },
  {
   "cell_type": "code",
   "execution_count": 200,
   "id": "5072241a",
   "metadata": {},
   "outputs": [
    {
     "data": {
      "text/plain": [
       "0.4999380557773312"
      ]
     },
     "execution_count": 200,
     "metadata": {},
     "output_type": "execute_result"
    }
   ],
   "source": [
    "##What is the probability that an individual received the old page?\n",
    "df2.query('landing_page == \"old_page\"').landing_page.count()/ (df2.shape[0])"
   ]
  },
  {
   "cell_type": "code",
   "execution_count": 201,
   "id": "70a04fcb",
   "metadata": {},
   "outputs": [],
   "source": [
    "#conclusion\n",
    "# No Clear Winner: The experiment doesn’t show a clear advantage for the new treatment page over the old one in terms of getting more people to take action (conversions).\n",
    "# Similar Conversion Rates: The percentage of users who took the desired action after seeing the old page (12.03%) is almost the same as the percentage who did so after seeing the new page (11.88%).\n",
    "# Equal Chances: The likelihood of someone seeing the new page or the old page was about the same, so there was no unfair advantage.\n",
    "# Balanced Groups: The number of users who saw the old page and the number who saw the new page were pretty much equal, so the comparison is fair."
   ]
  },
  {
   "cell_type": "code",
   "execution_count": 202,
   "id": "3c3c8db1",
   "metadata": {},
   "outputs": [],
   "source": [
    "# Question 1: Hypotheses\n",
    "\n",
    "# Null Hypothesis (H0): The old page is just as good as or better than the new page at converting users.\n",
    "# Alternative Hypothesis (H1): The new page is better than the old page at converting users.\n",
    "\n",
    "\n",
    "# Question 2: Conversion Rates\n",
    "\n",
    "# Assumption: Both the new and old pages convert users at the same rate in the real world.\n",
    "# Equal Rates: We use the overall conversion rate from the data as the common rate for both pages.\n",
    "# Sampling Distribution: We simulate what would happen if this assumption were true by repeating an experiment many times.\n",
    "# Conversion Rate Under Null: Since we assume the pages are equal, the conversion rate for the new page (pnew) is the same as the old page (pold), which is the average rate we observe in the data."
   ]
  },
  {
   "cell_type": "code",
   "execution_count": 203,
   "id": "d5ca46af",
   "metadata": {},
   "outputs": [
    {
     "data": {
      "text/plain": [
       "0.11959708724499628"
      ]
     },
     "execution_count": 203,
     "metadata": {},
     "output_type": "execute_result"
    }
   ],
   "source": [
    "#What is the convert rate for p_new under the null?\n",
    "\n",
    "p_new = df2.converted.mean()\n",
    "p_new"
   ]
  },
  {
   "cell_type": "code",
   "execution_count": 204,
   "id": "0264826e",
   "metadata": {},
   "outputs": [
    {
     "data": {
      "text/plain": [
       "0.11959708724499628"
      ]
     },
     "execution_count": 204,
     "metadata": {},
     "output_type": "execute_result"
    }
   ],
   "source": [
    "#What is the convert rate for p_old under the null?\n",
    "\n",
    "p_old = df2.converted.mean()\n",
    "p_old"
   ]
  },
  {
   "cell_type": "code",
   "execution_count": 205,
   "id": "d863a560",
   "metadata": {},
   "outputs": [
    {
     "data": {
      "text/plain": [
       "145310"
      ]
     },
     "execution_count": 205,
     "metadata": {},
     "output_type": "execute_result"
    }
   ],
   "source": [
    "#n_new represents the number of rows in the dataframe treatment_df\n",
    "# Create dataframe with all treatment records\n",
    "treatment_df = df2.query('group == \"treatment\"') \n",
    "n_new = treatment_df.shape[0]\n",
    "n_new"
   ]
  },
  {
   "cell_type": "code",
   "execution_count": 206,
   "id": "50f097a7",
   "metadata": {},
   "outputs": [
    {
     "data": {
      "text/plain": [
       "145274"
      ]
     },
     "execution_count": 206,
     "metadata": {},
     "output_type": "execute_result"
    }
   ],
   "source": [
    "#n_old represents the number of rows in the dataframe control_df\n",
    "# Create dataframe with all control records\n",
    "control_df = df2.query('group == \"control\"') \n",
    "n_old = control_df.shape[0]\n",
    "n_old"
   ]
  },
  {
   "cell_type": "code",
   "execution_count": 207,
   "id": "51502f7b",
   "metadata": {},
   "outputs": [
    {
     "data": {
      "text/plain": [
       "17257"
      ]
     },
     "execution_count": 207,
     "metadata": {},
     "output_type": "execute_result"
    }
   ],
   "source": [
    "# Simulate Transactions: Pretend to run n_new tests, where n_new is the number of users who saw the new page.\n",
    "# Conversion Rate: Use p_new as the probability that each user will ‘convert’ (like making a purchase or clicking a button).\n",
    "# Under the Null: Assume there’s no difference between the new and old pages in terms of conversion rate.\n",
    "# Store Results: Keep track of each simulated user’s action (1 for conversion, 0 for no conversion) in an array called new_page_converted.\n",
    "#new_page_converted will be a number representing how many users, out of all those shown the new page (n_ne)\n",
    "new_page_converted = np.random.binomial(n_new, p_new)\n",
    "new_page_converted"
   ]
  },
  {
   "cell_type": "code",
   "execution_count": 208,
   "id": "5cc75fad",
   "metadata": {},
   "outputs": [
    {
     "data": {
      "text/plain": [
       "17474"
      ]
     },
     "execution_count": 208,
     "metadata": {},
     "output_type": "execute_result"
    }
   ],
   "source": [
    "#similary,\n",
    "old_page_converted = np.random.binomial(n_old, p_old)\n",
    "old_page_converted"
   ]
  },
  {
   "cell_type": "code",
   "execution_count": 209,
   "id": "bc4840aa",
   "metadata": {},
   "outputs": [
    {
     "data": {
      "text/plain": [
       "-0.0015231586941583386"
      ]
     },
     "execution_count": 209,
     "metadata": {},
     "output_type": "execute_result"
    }
   ],
   "source": [
    "#Find p_new - p_old for your simulated values\n",
    "\n",
    "p_diff = (new_page_converted/n_new) - (old_page_converted/n_old)\n",
    "p_diff"
   ]
  },
  {
   "cell_type": "code",
   "execution_count": 210,
   "id": "3bd1fadd",
   "metadata": {},
   "outputs": [],
   "source": [
    "#Simulate 10,000 p_new - p_old values using this same process similarly \n",
    "#Store all 10,000 values in a numpy array called p_diffs.\n",
    "\n",
    "p_diffs = []\n",
    "for _ in range(10000):\n",
    "    new_page_converted = np.random.binomial(n_new, p_new)\n",
    "    old_page_converted = np.random.binomial(n_old, p_old)\n",
    "    p_diff = (new_page_converted/n_new) - (old_page_converted/n_old)\n",
    "    p_diffs.append(p_diff)\n",
    "\n",
    "p_diffs = np.array(p_diffs)"
   ]
  },
  {
   "cell_type": "code",
   "execution_count": 211,
   "id": "6b5faadb",
   "metadata": {},
   "outputs": [
    {
     "data": {
      "text/plain": [
       "-0.0015782389853555567"
      ]
     },
     "execution_count": 211,
     "metadata": {},
     "output_type": "execute_result"
    }
   ],
   "source": [
    "# calculating the actual difference observed between conversion rates for new and old pages in the given dataset\n",
    "control_cnv = control_df.converted.mean()\n",
    "treatment_cnv = treatment_df.converted.mean()\n",
    "obs_diff = treatment_cnv - control_cnv\n",
    "obs_diff"
   ]
  },
  {
   "cell_type": "code",
   "execution_count": 212,
   "id": "63e6d617",
   "metadata": {},
   "outputs": [
    {
     "data": {
      "image/png": "[encoded data removed]",
      "text/plain": [
       "<Figure size 640x480 with 1 Axes>"
      ]
     },
     "metadata": {},
     "output_type": "display_data"
    }
   ],
   "source": [
    "# plotting p_diffs distribution\n",
    "plt.hist(p_diffs)\n",
    "plt.title('Simulated Difference of New Page and Old Page Converted Under the Null')\n",
    "plt.xlabel('Page difference')\n",
    "plt.ylabel('Frequency')\n",
    "# plotting the line for the observed difference between conversion rates for new and old pages\n",
    "plt.axvline(x=obs_diff,  c='red');\n",
    "#plt.axvline(x=(np.array(p_diffs).mean()), color='g', linestyle='dashed', linewidth=1, label=\"Simulated difference\")"
   ]
  },
  {
   "cell_type": "code",
   "execution_count": 213,
   "id": "189cc9c4",
   "metadata": {},
   "outputs": [
    {
     "data": {
      "text/plain": [
       "0.9045"
      ]
     },
     "execution_count": 213,
     "metadata": {},
     "output_type": "execute_result"
    }
   ],
   "source": [
    "# p-value\n",
    "(p_diffs > obs_diff).mean()"
   ]
  },
  {
   "cell_type": "code",
   "execution_count": 214,
   "id": "f657eaea",
   "metadata": {},
   "outputs": [],
   "source": [
    "#in your case, since the p-value is 0.9, which is way above 0.05, we’re not convinced that the new page is any better than the old one based on the data we have"
   ]
  },
  {
   "cell_type": "code",
   "execution_count": 215,
   "id": "43569bbf",
   "metadata": {},
   "outputs": [
    {
     "data": {
      "text/plain": [
       "(17489, 17264, 145274, 145310)"
      ]
     },
     "execution_count": 215,
     "metadata": {},
     "output_type": "execute_result"
    }
   ],
   "source": [
    "# import statsmodels.api as sm: This imports the statsmodels library, which is used for statistical modeling and tests, and gives it the alias sm for ease of use.\n",
    "# convert_old = df2.query('landing_page == \"old_page\"').converted.sum(): This calculates the total number of conversions for the old page. It filters df2 for rows where the landing_page is “old_page”, then sums up the converted column, which indicates whether a user converted (1) or not (0).\n",
    "# convert_new = df2.query('landing_page == \"new_page\"').converted.sum(): Similar to the previous line, this calculates the total number of conversions for the new page.\n",
    "# n_old = len(df2.query('landing_page == \"old_page\"')): This counts the total number of users who were shown the old page by filtering df2 for rows where the landing_page is “old_page” and then getting the length of that subset.\n",
    "# n_new = len(df2.query('landing_page == \"new_page\"')): This counts the total number of users who were shown the new page in a similar manner to n_old.\n",
    "\n",
    "import statsmodels.api as sm\n",
    "\n",
    "convert_old = df2.query('landing_page == \"old_page\"').converted.sum()\n",
    "convert_new = df2.query('landing_page == \"new_page\"').converted.sum()\n",
    "n_old = len(df2.query('landing_page == \"old_page\"'))\n",
    "n_new = len(df2.query('landing_page == \"new_page\"'))\n",
    "\n",
    "convert_old, convert_new, n_old, n_new"
   ]
  },
  {
   "cell_type": "code",
   "execution_count": 216,
   "id": "4b813f95",
   "metadata": {},
   "outputs": [
    {
     "data": {
      "text/plain": [
       "(1.3109241984234394, 0.9050583127590245)"
      ]
     },
     "execution_count": 216,
     "metadata": {},
     "output_type": "execute_result"
    }
   ],
   "source": [
    "zstat, p_value = sm.stats.proportions_ztest([convert_old, convert_new], [n_old, n_new], alternative = 'smaller')\n",
    "zstat, p_value"
   ]
  },
  {
   "cell_type": "code",
   "execution_count": 217,
   "id": "54d910fc",
   "metadata": {},
   "outputs": [],
   "source": [
    "#regression\n",
    "# df2.head()"
   ]
  },
  {
   "cell_type": "code",
   "execution_count": 218,
   "id": "e181fb90",
   "metadata": {},
   "outputs": [],
   "source": [
    "# df2['intercept'] = 1\n",
    "# df2[['ab_page1', 'ab_page']] = pd.get_dummies(df2['group'])\n",
    "# df2.drop('ab_page1', axis = 1, inplace = True)\n",
    "# df2.head()"
   ]
  },
  {
   "cell_type": "code",
   "execution_count": 219,
   "id": "c8e27c77",
   "metadata": {},
   "outputs": [
    {
     "name": "stdout",
     "output_type": "stream",
     "text": [
      "Requirement already satisfied: statsmodels in c:\\users\\kiit\\anaconda3\\lib\\site-packages (0.14.0)\n",
      "Requirement already satisfied: numpy>=1.18 in c:\\users\\kiit\\anaconda3\\lib\\site-packages (from statsmodels) (1.24.3)\n",
      "Requirement already satisfied: scipy!=1.9.2,>=1.4 in c:\\users\\kiit\\anaconda3\\lib\\site-packages (from statsmodels) (1.11.1)\n",
      "Requirement already satisfied: pandas>=1.0 in c:\\users\\kiit\\anaconda3\\lib\\site-packages (from statsmodels) (2.0.3)\n",
      "Requirement already satisfied: patsy>=0.5.2 in c:\\users\\kiit\\anaconda3\\lib\\site-packages (from statsmodels) (0.5.3)\n",
      "Requirement already satisfied: packaging>=21.3 in c:\\users\\kiit\\appdata\\roaming\\python\\python311\\site-packages (from statsmodels) (23.2)\n",
      "Requirement already satisfied: python-dateutil>=2.8.2 in c:\\users\\kiit\\appdata\\roaming\\python\\python311\\site-packages (from pandas>=1.0->statsmodels) (2.8.2)\n",
      "Requirement already satisfied: pytz>=2020.1 in c:\\users\\kiit\\anaconda3\\lib\\site-packages (from pandas>=1.0->statsmodels) (2023.3.post1)\n",
      "Requirement already satisfied: tzdata>=2022.1 in c:\\users\\kiit\\anaconda3\\lib\\site-packages (from pandas>=1.0->statsmodels) (2023.3)\n",
      "Requirement already satisfied: six in c:\\users\\kiit\\appdata\\roaming\\python\\python311\\site-packages (from patsy>=0.5.2->statsmodels) (1.16.0)\n",
      "Note: you may need to restart the kernel to use updated packages.\n"
     ]
    }
   ],
   "source": [
    "pip install statsmodels"
   ]
  },
  {
   "cell_type": "code",
   "execution_count": 220,
   "id": "cb593bc8",
   "metadata": {},
   "outputs": [],
   "source": [
    "# # Ensure 'converted' is binary\n",
    "# df2['converted'] = df2['converted'].apply(lambda x: 1 if x == 'success' else 0)\n",
    "\n",
    "# # Drop any missing values\n",
    "# df2 = df2.dropna()\n",
    "\n",
    "# Convert data types to numeric\n",
    "# df2['intercept'] = df2['intercept'].astype(int)\n",
    "# df2['ab_page'] = df2['ab_page'].astype(int)\n",
    "# df2\n"
   ]
  },
  {
   "cell_type": "code",
   "execution_count": 221,
   "id": "89a4efeb",
   "metadata": {},
   "outputs": [],
   "source": [
    "# # Fit the logistic regression model\n",
    "# log_mod = sm.Logit(df2['converted'], df2[['intercept', 'ab_page']])\n",
    "# # results = log_mod.fit()\n",
    "# results = log_mod.fit(method='bfgs')\n"
   ]
  },
  {
   "cell_type": "code",
   "execution_count": 222,
   "id": "d1a77f78",
   "metadata": {},
   "outputs": [],
   "source": [
    "# results.summary()"
   ]
  },
  {
   "cell_type": "code",
   "execution_count": 223,
   "id": "69369875",
   "metadata": {},
   "outputs": [
    {
     "data": {
      "text/html": [
       "<div>\n",
       "<style scoped>\n",
       "    .dataframe tbody tr th:only-of-type {\n",
       "        vertical-align: middle;\n",
       "    }\n",
       "\n",
       "    .dataframe tbody tr th {\n",
       "        vertical-align: top;\n",
       "    }\n",
       "\n",
       "    .dataframe thead th {\n",
       "        text-align: right;\n",
       "    }\n",
       "</style>\n",
       "<table border=\"1\" class=\"dataframe\">\n",
       "  <thead>\n",
       "    <tr style=\"text-align: right;\">\n",
       "      <th></th>\n",
       "      <th>user_id</th>\n",
       "      <th>timestamp</th>\n",
       "      <th>group</th>\n",
       "      <th>converted</th>\n",
       "      <th>new_page</th>\n",
       "      <th>old_page</th>\n",
       "    </tr>\n",
       "  </thead>\n",
       "  <tbody>\n",
       "    <tr>\n",
       "      <th>0</th>\n",
       "      <td>851104</td>\n",
       "      <td>2017-01-21 22:11:48.556739</td>\n",
       "      <td>control</td>\n",
       "      <td>0</td>\n",
       "      <td>False</td>\n",
       "      <td>True</td>\n",
       "    </tr>\n",
       "    <tr>\n",
       "      <th>1</th>\n",
       "      <td>804228</td>\n",
       "      <td>2017-01-12 08:01:45.159739</td>\n",
       "      <td>control</td>\n",
       "      <td>0</td>\n",
       "      <td>False</td>\n",
       "      <td>True</td>\n",
       "    </tr>\n",
       "    <tr>\n",
       "      <th>2</th>\n",
       "      <td>661590</td>\n",
       "      <td>2017-01-11 16:55:06.154213</td>\n",
       "      <td>treatment</td>\n",
       "      <td>0</td>\n",
       "      <td>True</td>\n",
       "      <td>False</td>\n",
       "    </tr>\n",
       "    <tr>\n",
       "      <th>3</th>\n",
       "      <td>853541</td>\n",
       "      <td>2017-01-08 18:28:03.143765</td>\n",
       "      <td>treatment</td>\n",
       "      <td>0</td>\n",
       "      <td>True</td>\n",
       "      <td>False</td>\n",
       "    </tr>\n",
       "    <tr>\n",
       "      <th>4</th>\n",
       "      <td>864975</td>\n",
       "      <td>2017-01-21 01:52:26.210827</td>\n",
       "      <td>control</td>\n",
       "      <td>1</td>\n",
       "      <td>False</td>\n",
       "      <td>True</td>\n",
       "    </tr>\n",
       "  </tbody>\n",
       "</table>\n",
       "</div>"
      ],
      "text/plain": [
       "   user_id                   timestamp      group  converted  new_page  \\\n",
       "0   851104  2017-01-21 22:11:48.556739    control          0     False   \n",
       "1   804228  2017-01-12 08:01:45.159739    control          0     False   \n",
       "2   661590  2017-01-11 16:55:06.154213  treatment          0      True   \n",
       "3   853541  2017-01-08 18:28:03.143765  treatment          0      True   \n",
       "4   864975  2017-01-21 01:52:26.210827    control          1     False   \n",
       "\n",
       "   old_page  \n",
       "0      True  \n",
       "1      True  \n",
       "2     False  \n",
       "3     False  \n",
       "4      True  "
      ]
     },
     "execution_count": 223,
     "metadata": {},
     "output_type": "execute_result"
    }
   ],
   "source": [
    "df_page = pd.get_dummies(data=df2, columns=['landing_page'], prefix='').rename(columns=lambda x: x.strip('_'))\n",
    "df_page.head()"
   ]
  },
  {
   "cell_type": "code",
   "execution_count": 227,
   "id": "30582b5d",
   "metadata": {},
   "outputs": [
    {
     "data": {
      "text/html": [
       "<div>\n",
       "<style scoped>\n",
       "    .dataframe tbody tr th:only-of-type {\n",
       "        vertical-align: middle;\n",
       "    }\n",
       "\n",
       "    .dataframe tbody tr th {\n",
       "        vertical-align: top;\n",
       "    }\n",
       "\n",
       "    .dataframe thead th {\n",
       "        text-align: right;\n",
       "    }\n",
       "</style>\n",
       "<table border=\"1\" class=\"dataframe\">\n",
       "  <thead>\n",
       "    <tr style=\"text-align: right;\">\n",
       "      <th></th>\n",
       "      <th>user_id</th>\n",
       "      <th>timestamp</th>\n",
       "      <th>group</th>\n",
       "      <th>converted</th>\n",
       "      <th>new_page</th>\n",
       "      <th>old_page</th>\n",
       "    </tr>\n",
       "  </thead>\n",
       "  <tbody>\n",
       "    <tr>\n",
       "      <th>0</th>\n",
       "      <td>851104</td>\n",
       "      <td>2017-01-21 22:11:48.556739</td>\n",
       "      <td>control</td>\n",
       "      <td>0</td>\n",
       "      <td>False</td>\n",
       "      <td>True</td>\n",
       "    </tr>\n",
       "    <tr>\n",
       "      <th>1</th>\n",
       "      <td>804228</td>\n",
       "      <td>2017-01-12 08:01:45.159739</td>\n",
       "      <td>control</td>\n",
       "      <td>0</td>\n",
       "      <td>False</td>\n",
       "      <td>True</td>\n",
       "    </tr>\n",
       "    <tr>\n",
       "      <th>2</th>\n",
       "      <td>661590</td>\n",
       "      <td>2017-01-11 16:55:06.154213</td>\n",
       "      <td>treatment</td>\n",
       "      <td>0</td>\n",
       "      <td>True</td>\n",
       "      <td>False</td>\n",
       "    </tr>\n",
       "    <tr>\n",
       "      <th>3</th>\n",
       "      <td>853541</td>\n",
       "      <td>2017-01-08 18:28:03.143765</td>\n",
       "      <td>treatment</td>\n",
       "      <td>0</td>\n",
       "      <td>True</td>\n",
       "      <td>False</td>\n",
       "    </tr>\n",
       "    <tr>\n",
       "      <th>4</th>\n",
       "      <td>864975</td>\n",
       "      <td>2017-01-21 01:52:26.210827</td>\n",
       "      <td>control</td>\n",
       "      <td>1</td>\n",
       "      <td>False</td>\n",
       "      <td>True</td>\n",
       "    </tr>\n",
       "    <tr>\n",
       "      <th>...</th>\n",
       "      <td>...</td>\n",
       "      <td>...</td>\n",
       "      <td>...</td>\n",
       "      <td>...</td>\n",
       "      <td>...</td>\n",
       "      <td>...</td>\n",
       "    </tr>\n",
       "    <tr>\n",
       "      <th>294473</th>\n",
       "      <td>751197</td>\n",
       "      <td>2017-01-03 22:28:38.630509</td>\n",
       "      <td>control</td>\n",
       "      <td>0</td>\n",
       "      <td>False</td>\n",
       "      <td>True</td>\n",
       "    </tr>\n",
       "    <tr>\n",
       "      <th>294474</th>\n",
       "      <td>945152</td>\n",
       "      <td>2017-01-12 00:51:57.078372</td>\n",
       "      <td>control</td>\n",
       "      <td>0</td>\n",
       "      <td>False</td>\n",
       "      <td>True</td>\n",
       "    </tr>\n",
       "    <tr>\n",
       "      <th>294475</th>\n",
       "      <td>734608</td>\n",
       "      <td>2017-01-22 11:45:03.439544</td>\n",
       "      <td>control</td>\n",
       "      <td>0</td>\n",
       "      <td>False</td>\n",
       "      <td>True</td>\n",
       "    </tr>\n",
       "    <tr>\n",
       "      <th>294476</th>\n",
       "      <td>697314</td>\n",
       "      <td>2017-01-15 01:20:28.957438</td>\n",
       "      <td>control</td>\n",
       "      <td>0</td>\n",
       "      <td>False</td>\n",
       "      <td>True</td>\n",
       "    </tr>\n",
       "    <tr>\n",
       "      <th>294477</th>\n",
       "      <td>715931</td>\n",
       "      <td>2017-01-16 12:40:24.467417</td>\n",
       "      <td>treatment</td>\n",
       "      <td>0</td>\n",
       "      <td>True</td>\n",
       "      <td>False</td>\n",
       "    </tr>\n",
       "  </tbody>\n",
       "</table>\n",
       "<p>290584 rows × 6 columns</p>\n",
       "</div>"
      ],
      "text/plain": [
       "        user_id                   timestamp      group  converted  new_page  \\\n",
       "0        851104  2017-01-21 22:11:48.556739    control          0     False   \n",
       "1        804228  2017-01-12 08:01:45.159739    control          0     False   \n",
       "2        661590  2017-01-11 16:55:06.154213  treatment          0      True   \n",
       "3        853541  2017-01-08 18:28:03.143765  treatment          0      True   \n",
       "4        864975  2017-01-21 01:52:26.210827    control          1     False   \n",
       "...         ...                         ...        ...        ...       ...   \n",
       "294473   751197  2017-01-03 22:28:38.630509    control          0     False   \n",
       "294474   945152  2017-01-12 00:51:57.078372    control          0     False   \n",
       "294475   734608  2017-01-22 11:45:03.439544    control          0     False   \n",
       "294476   697314  2017-01-15 01:20:28.957438    control          0     False   \n",
       "294477   715931  2017-01-16 12:40:24.467417  treatment          0      True   \n",
       "\n",
       "        old_page  \n",
       "0           True  \n",
       "1           True  \n",
       "2          False  \n",
       "3          False  \n",
       "4           True  \n",
       "...          ...  \n",
       "294473      True  \n",
       "294474      True  \n",
       "294475      True  \n",
       "294476      True  \n",
       "294477     False  \n",
       "\n",
       "[290584 rows x 6 columns]"
      ]
     },
     "execution_count": 227,
     "metadata": {},
     "output_type": "execute_result"
    }
   ],
   "source": [
    "df_page['new_page'].replace(['False', 'True '],[0, 1], inplace=True)\n",
    "df_page['old_page'].replace(['False', 'True '],[0, 1], inplace=True)\n",
    "df_page"
   ]
  }
 ],
 "metadata": {
  "kernelspec": {
   "display_name": "Python 3 (ipykernel)",
   "language": "python",
   "name": "python3"
  },
  "language_info": {
   "codemirror_mode": {
    "name": "ipython",
    "version": 3
   },
   "file_extension": ".py",
   "mimetype": "text/x-python",
   "name": "python",
   "nbconvert_exporter": "python",
   "pygments_lexer": "ipython3",
   "version": "3.11.5"
  }
 },
 "nbformat": 4,
 "nbformat_minor": 5
}
